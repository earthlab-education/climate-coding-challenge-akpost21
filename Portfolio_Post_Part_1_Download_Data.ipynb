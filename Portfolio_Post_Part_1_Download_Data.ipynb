{
  "cells": [
    {
      "cell_type": "markdown",
      "id": "f089c993-1269-4ac7-923b-aded0dab019c",
      "metadata": {},
      "source": [
        "# Climate coding challenge, Part 6\n",
        "\n",
        "Getting your own data\n",
        "\n",
        "## There are more Earth Observation data online than any one person could ever look at\n",
        "\n",
        "[NASA’s Earth Observing System Data and Information System (EOSDIS)\n",
        "alone manages over 9PB of\n",
        "data](https://www.earthdata.nasa.gov/learn/articles/getting-petabytes-people-how-eosdis-facilitates-earth-observing-data-discovery-and-use).\n",
        "1 PB is roughly 100 times the entire Library of Congress (a good\n",
        "approximation of all the books available in the US). It’s all available\n",
        "to **you** once you learn how to download what you want.\n",
        "\n",
        "Here we’re using the NOAA National Centers for Environmental Information\n",
        "(NCEI) [Access Data\n",
        "Service](https://www.ncei.noaa.gov/support/access-data-service-api-user-documentation)\n",
        "application progamming interface (API) to request data from their web\n",
        "servers. We will be using data collected as part of the Global\n",
        "Historical Climatology Network daily (GHCNd) from their [Climate Data\n",
        "Online library](https://www.ncdc.noaa.gov/cdo-web/datasets) program at\n",
        "NOAA.\n",
        "\n",
        "For this example we’re requesting [daily summary data in\n",
        "**Boulder, CO** (station ID\n",
        "**USC00050848**)](https://www.ncdc.noaa.gov/cdo-web/datasets/GHCND/stations/GHCND:USC00050848/detail)."
      ]
    },
    {
      "cell_type": "markdown",
      "id": "e6fae95c-05db-4ec5-b8f6-5677291e5178",
      "metadata": {},
      "source": [
        "> ** Your task:**\n",
        ">\n",
        "> 1.  Research the [**Global Historical Climatology Network -\n",
        ">     Daily**](https://www.ncei.noaa.gov/metadata/geoportal/rest/metadata/item/gov.noaa.ncdc:C00861/html)\n",
        ">     data source.\n",
        "> 2.  In the cell below, write a 2-3 sentence description of the data\n",
        ">     source.\n",
        "> 3.  Include a citation of the data (**HINT:** See the ‘Data Citation’\n",
        ">     tab on the GHCNd overview page).\n",
        ">\n",
        "> Your description should include:\n",
        ">\n",
        "> -   who takes the data\n",
        "> -   where the data were taken\n",
        "> -   what the maximum temperature units are\n",
        "> -   how the data are collected"
      ]
    },
    {
      "cell_type": "markdown",
      "id": "4ca2cf0e-ed33-46f8-b1fa-fb19a97dc40d",
      "metadata": {},
      "source": [
        "**YOUR DATA DESCRIPTION AND CITATION HERE** 🛎️"
      ]
    },
    {
      "cell_type": "markdown",
      "id": "65cbd277-08f2-46ea-9bec-d714881c4713",
      "metadata": {},
      "source": [
        "## Access NCEI GHCNd Data from the internet using its API 🖥️ 📡 🖥️\n",
        "\n",
        "The cell below contains the URL for the data you will use in this part\n",
        "of the notebook. We created this URL by generating what is called an\n",
        "**API endpoint** using the NCEI [API\n",
        "documentation](https://www.ncei.noaa.gov/support/access-data-service-api-user-documentation).\n",
        "\n",
        "> **Note**\n",
        ">\n",
        "> An **application programming interface** (API) is a way for two or\n",
        "> more computer programs or components to communicate with each other.\n",
        "> It is a type of software interface, offering a service to other pieces\n",
        "> of software ([Wikipedia](https://en.wikipedia.org/wiki/API)).\n",
        "\n",
        "First things first – you will need to import the `pandas` library to\n",
        "access NCEI data through its URL:"
      ]
    },
    {
      "cell_type": "code",
      "execution_count": 16,
      "id": "0080a1a4",
      "metadata": {},
      "outputs": [],
      "source": [
        "# Import required packages\n",
        "import pandas as pd\n",
        "import numpy as np"
      ]
    },
    {
      "cell_type": "markdown",
      "id": "c2936f0b-2081-41be-8939-d063f9538a5d",
      "metadata": {},
      "source": [
        "> **Your task:**\n",
        ">\n",
        "> 1.  Pick an expressive variable name for the URL.\n",
        "> 2.  Reformat the URL so that it adheres to the [79-character PEP-8\n",
        ">     line\n",
        ">     limit](https://peps.python.org/pep-0008/#maximum-line-length). You\n",
        ">     should see two vertical lines in each cell - don’t let your code\n",
        ">     go past the second line.\n",
        "> 3.  At the end of the cell where you define your url variable, **call\n",
        ">     your variable (type out its name)** so it can be tested."
      ]
    },
    {
      "cell_type": "code",
      "execution_count": 17,
      "id": "dbf3db2e",
      "metadata": {},
      "outputs": [
        {
          "data": {
            "text/plain": [
              "'https://www.ncei.noaa.gov/access/services/data/v1?dataset=daily-summaries&dataTypes=TOBS,PRCP&stations=USC00050848&units=standard&startDate=1901-10-01&endDate=2023-09-30'"
            ]
          },
          "execution_count": 17,
          "metadata": {},
          "output_type": "execute_result"
        }
      ],
      "source": [
        "Boulder_data = ('https://www.ncei.noaa.gov/access/services/data/v1'\n",
        "                '?dataset=daily-summaries'\n",
        "                '&dataTypes=TOBS,PRCP'\n",
        "                '&stations=USC00050848'\n",
        "                '&units=standard'\n",
        "                '&startDate=1901-10-01'\n",
        "                '&endDate=2023-09-30')\n",
        "Boulder_data"
      ]
    },
    {
      "cell_type": "markdown",
      "id": "7fe1870c-40ef-4d1b-89d6-050bba5a8ec2",
      "metadata": {},
      "source": [
        "------------------------------------------------------------------------\n",
        "\n",
        "## **Download and get started working with NCEI data**\n",
        "\n",
        "Just like you did with the practice data, go ahead and use pandas to\n",
        "import data from your API URL into Python. If you didn’t do it already,\n",
        "you should import the pandas library **at the top of this notebook** so\n",
        "that others who want to use your code can find it easily."
      ]
    },
    {
      "cell_type": "code",
      "execution_count": 18,
      "id": "959deead",
      "metadata": {},
      "outputs": [
        {
          "data": {
            "text/html": [
              "<div>\n",
              "<style scoped>\n",
              "    .dataframe tbody tr th:only-of-type {\n",
              "        vertical-align: middle;\n",
              "    }\n",
              "\n",
              "    .dataframe tbody tr th {\n",
              "        vertical-align: top;\n",
              "    }\n",
              "\n",
              "    .dataframe thead th {\n",
              "        text-align: right;\n",
              "    }\n",
              "</style>\n",
              "<table border=\"1\" class=\"dataframe\">\n",
              "  <thead>\n",
              "    <tr style=\"text-align: right;\">\n",
              "      <th></th>\n",
              "      <th>STATION</th>\n",
              "      <th>PRCP</th>\n",
              "      <th>TOBS</th>\n",
              "    </tr>\n",
              "    <tr>\n",
              "      <th>DATE</th>\n",
              "      <th></th>\n",
              "      <th></th>\n",
              "      <th></th>\n",
              "    </tr>\n",
              "  </thead>\n",
              "  <tbody>\n",
              "    <tr>\n",
              "      <th>1901-10-01</th>\n",
              "      <td>USC00050848</td>\n",
              "      <td>0.0</td>\n",
              "      <td>62.0</td>\n",
              "    </tr>\n",
              "    <tr>\n",
              "      <th>1901-10-02</th>\n",
              "      <td>USC00050848</td>\n",
              "      <td>0.0</td>\n",
              "      <td>60.0</td>\n",
              "    </tr>\n",
              "    <tr>\n",
              "      <th>1901-10-03</th>\n",
              "      <td>USC00050848</td>\n",
              "      <td>0.0</td>\n",
              "      <td>57.0</td>\n",
              "    </tr>\n",
              "    <tr>\n",
              "      <th>1901-10-04</th>\n",
              "      <td>USC00050848</td>\n",
              "      <td>0.0</td>\n",
              "      <td>53.0</td>\n",
              "    </tr>\n",
              "    <tr>\n",
              "      <th>1901-10-05</th>\n",
              "      <td>USC00050848</td>\n",
              "      <td>0.0</td>\n",
              "      <td>49.0</td>\n",
              "    </tr>\n",
              "    <tr>\n",
              "      <th>...</th>\n",
              "      <td>...</td>\n",
              "      <td>...</td>\n",
              "      <td>...</td>\n",
              "    </tr>\n",
              "    <tr>\n",
              "      <th>2023-09-26</th>\n",
              "      <td>USC00050848</td>\n",
              "      <td>0.0</td>\n",
              "      <td>74.0</td>\n",
              "    </tr>\n",
              "    <tr>\n",
              "      <th>2023-09-27</th>\n",
              "      <td>USC00050848</td>\n",
              "      <td>0.0</td>\n",
              "      <td>69.0</td>\n",
              "    </tr>\n",
              "    <tr>\n",
              "      <th>2023-09-28</th>\n",
              "      <td>USC00050848</td>\n",
              "      <td>0.0</td>\n",
              "      <td>73.0</td>\n",
              "    </tr>\n",
              "    <tr>\n",
              "      <th>2023-09-29</th>\n",
              "      <td>USC00050848</td>\n",
              "      <td>0.0</td>\n",
              "      <td>66.0</td>\n",
              "    </tr>\n",
              "    <tr>\n",
              "      <th>2023-09-30</th>\n",
              "      <td>USC00050848</td>\n",
              "      <td>0.0</td>\n",
              "      <td>78.0</td>\n",
              "    </tr>\n",
              "  </tbody>\n",
              "</table>\n",
              "<p>43862 rows × 3 columns</p>\n",
              "</div>"
            ],
            "text/plain": [
              "                STATION  PRCP  TOBS\n",
              "DATE                               \n",
              "1901-10-01  USC00050848   0.0  62.0\n",
              "1901-10-02  USC00050848   0.0  60.0\n",
              "1901-10-03  USC00050848   0.0  57.0\n",
              "1901-10-04  USC00050848   0.0  53.0\n",
              "1901-10-05  USC00050848   0.0  49.0\n",
              "...                 ...   ...   ...\n",
              "2023-09-26  USC00050848   0.0  74.0\n",
              "2023-09-27  USC00050848   0.0  69.0\n",
              "2023-09-28  USC00050848   0.0  73.0\n",
              "2023-09-29  USC00050848   0.0  66.0\n",
              "2023-09-30  USC00050848   0.0  78.0\n",
              "\n",
              "[43862 rows x 3 columns]"
            ]
          },
          "execution_count": 18,
          "metadata": {},
          "output_type": "execute_result"
        }
      ],
      "source": [
        "# Import data into Python from NCEI API\n",
        "Boulder_df = pd.read_csv(\n",
        "    Boulder_data,\n",
        "    index_col='DATE', \n",
        "    parse_dates=True,\n",
        "    na_values=['NaN'])\n",
        "Boulder_df"
      ]
    },
    {
      "cell_type": "code",
      "execution_count": 19,
      "id": "ba267a2f",
      "metadata": {},
      "outputs": [
        {
          "data": {
            "text/plain": [
              "'https://www.ncei.noaa.gov/access/services/data/v1?dataset=daily-summaries&dataTypes=TOBS,PRCP&stations=USC00186350&units=standard&startDate=1950-10-01&endDate=2023-09-30'"
            ]
          },
          "execution_count": 19,
          "metadata": {},
          "output_type": "execute_result"
        }
      ],
      "source": [
        "#Choose a different location\n",
        "DC_data = ('https://www.ncei.noaa.gov/access/services/data/v1'\n",
        "                '?dataset=daily-summaries'\n",
        "                '&dataTypes=TOBS,PRCP'\n",
        "                '&stations=USC00186350'\n",
        "                '&units=standard'\n",
        "                '&startDate=1950-10-01'\n",
        "                '&endDate=2023-09-30')\n",
        "DC_data"
      ]
    },
    {
      "cell_type": "code",
      "execution_count": 11,
      "id": "f222f81e",
      "metadata": {},
      "outputs": [
        {
          "data": {
            "text/html": [
              "<div>\n",
              "<style scoped>\n",
              "    .dataframe tbody tr th:only-of-type {\n",
              "        vertical-align: middle;\n",
              "    }\n",
              "\n",
              "    .dataframe tbody tr th {\n",
              "        vertical-align: top;\n",
              "    }\n",
              "\n",
              "    .dataframe thead th {\n",
              "        text-align: right;\n",
              "    }\n",
              "</style>\n",
              "<table border=\"1\" class=\"dataframe\">\n",
              "  <thead>\n",
              "    <tr style=\"text-align: right;\">\n",
              "      <th></th>\n",
              "      <th>STATION</th>\n",
              "      <th>PRCP</th>\n",
              "      <th>TOBS</th>\n",
              "    </tr>\n",
              "    <tr>\n",
              "      <th>DATE</th>\n",
              "      <th></th>\n",
              "      <th></th>\n",
              "      <th></th>\n",
              "    </tr>\n",
              "  </thead>\n",
              "  <tbody>\n",
              "    <tr>\n",
              "      <th>1950-10-01</th>\n",
              "      <td>USC00186350</td>\n",
              "      <td>0.00</td>\n",
              "      <td>80.0</td>\n",
              "    </tr>\n",
              "    <tr>\n",
              "      <th>1950-10-02</th>\n",
              "      <td>USC00186350</td>\n",
              "      <td>0.00</td>\n",
              "      <td>81.0</td>\n",
              "    </tr>\n",
              "    <tr>\n",
              "      <th>1950-10-03</th>\n",
              "      <td>USC00186350</td>\n",
              "      <td>0.00</td>\n",
              "      <td>81.0</td>\n",
              "    </tr>\n",
              "    <tr>\n",
              "      <th>1950-10-04</th>\n",
              "      <td>USC00186350</td>\n",
              "      <td>0.27</td>\n",
              "      <td>61.0</td>\n",
              "    </tr>\n",
              "    <tr>\n",
              "      <th>1950-10-05</th>\n",
              "      <td>USC00186350</td>\n",
              "      <td>0.00</td>\n",
              "      <td>62.0</td>\n",
              "    </tr>\n",
              "    <tr>\n",
              "      <th>...</th>\n",
              "      <td>...</td>\n",
              "      <td>...</td>\n",
              "      <td>...</td>\n",
              "    </tr>\n",
              "    <tr>\n",
              "      <th>2023-09-26</th>\n",
              "      <td>USC00186350</td>\n",
              "      <td>0.07</td>\n",
              "      <td>58.0</td>\n",
              "    </tr>\n",
              "    <tr>\n",
              "      <th>2023-09-27</th>\n",
              "      <td>USC00186350</td>\n",
              "      <td>0.04</td>\n",
              "      <td>58.0</td>\n",
              "    </tr>\n",
              "    <tr>\n",
              "      <th>2023-09-28</th>\n",
              "      <td>USC00186350</td>\n",
              "      <td>0.00</td>\n",
              "      <td>53.0</td>\n",
              "    </tr>\n",
              "    <tr>\n",
              "      <th>2023-09-29</th>\n",
              "      <td>USC00186350</td>\n",
              "      <td>0.01</td>\n",
              "      <td>61.0</td>\n",
              "    </tr>\n",
              "    <tr>\n",
              "      <th>2023-09-30</th>\n",
              "      <td>USC00186350</td>\n",
              "      <td>0.00</td>\n",
              "      <td>66.0</td>\n",
              "    </tr>\n",
              "  </tbody>\n",
              "</table>\n",
              "<p>25895 rows × 3 columns</p>\n",
              "</div>"
            ],
            "text/plain": [
              "                STATION  PRCP  TOBS\n",
              "DATE                               \n",
              "1950-10-01  USC00186350  0.00  80.0\n",
              "1950-10-02  USC00186350  0.00  81.0\n",
              "1950-10-03  USC00186350  0.00  81.0\n",
              "1950-10-04  USC00186350  0.27  61.0\n",
              "1950-10-05  USC00186350  0.00  62.0\n",
              "...                 ...   ...   ...\n",
              "2023-09-26  USC00186350  0.07  58.0\n",
              "2023-09-27  USC00186350  0.04  58.0\n",
              "2023-09-28  USC00186350  0.00  53.0\n",
              "2023-09-29  USC00186350  0.01  61.0\n",
              "2023-09-30  USC00186350  0.00  66.0\n",
              "\n",
              "[25895 rows x 3 columns]"
            ]
          },
          "execution_count": 11,
          "metadata": {},
          "output_type": "execute_result"
        }
      ],
      "source": [
        "# Import data into Python from NCEI API\n",
        "DC_df = pd.read_csv(\n",
        "    DC_data,\n",
        "    index_col='DATE', \n",
        "    parse_dates=True,\n",
        "    na_values=['NaN'])\n",
        "DC_df"
      ]
    },
    {
      "cell_type": "code",
      "execution_count": 14,
      "id": "900eabba",
      "metadata": {},
      "outputs": [
        {
          "data": {
            "text/plain": [
              "<Axes: title={'center': 'Washington, DC Temperature'}, xlabel='Year', ylabel='Temp ($^\\\\circ$F)'>"
            ]
          },
          "execution_count": 14,
          "metadata": {},
          "output_type": "execute_result"
        },
        {
          "data": {
            "image/png": "[encoded data removed]",
            "text/plain": [
              "<Figure size 640x480 with 1 Axes>"
            ]
          },
          "metadata": {},
          "output_type": "display_data"
        }
      ],
      "source": [
        "# Plot data\n",
        "DC_df.plot(\n",
        "    y='TOBS',\n",
        "    title='Washington, DC Temperature',\n",
        "    xlabel='Year',\n",
        "    ylabel='Temp ($^\\circ$F)',\n",
        "    legend = False)"
      ]
    },
    {
      "cell_type": "code",
      "execution_count": 20,
      "id": "875b75c9",
      "metadata": {},
      "outputs": [
        {
          "name": "stderr",
          "output_type": "stream",
          "text": [
            "/tmp/ipykernel_30674/2078979801.py:2: FutureWarning: The provided callable <function sum at 0x73932fd37250> is currently using SeriesGroupBy.sum. In a future version of pandas, the provided callable will be used directly. To keep current behavior pass 'sum' instead.\n",
            "  ann_DC_df = DC_df.resample('YS').agg({'PRCP': np.sum, 'TOBS': np.mean})\n",
            "/tmp/ipykernel_30674/2078979801.py:2: FutureWarning: The provided callable <function mean at 0x73932fd581f0> is currently using SeriesGroupBy.mean. In a future version of pandas, the provided callable will be used directly. To keep current behavior pass 'mean' instead.\n",
            "  ann_DC_df = DC_df.resample('YS').agg({'PRCP': np.sum, 'TOBS': np.mean})\n"
          ]
        },
        {
          "data": {
            "text/html": [
              "<div>\n",
              "<style scoped>\n",
              "    .dataframe tbody tr th:only-of-type {\n",
              "        vertical-align: middle;\n",
              "    }\n",
              "\n",
              "    .dataframe tbody tr th {\n",
              "        vertical-align: top;\n",
              "    }\n",
              "\n",
              "    .dataframe thead th {\n",
              "        text-align: right;\n",
              "    }\n",
              "</style>\n",
              "<table border=\"1\" class=\"dataframe\">\n",
              "  <thead>\n",
              "    <tr style=\"text-align: right;\">\n",
              "      <th></th>\n",
              "      <th>PRCP</th>\n",
              "      <th>TOBS</th>\n",
              "    </tr>\n",
              "    <tr>\n",
              "      <th>DATE</th>\n",
              "      <th></th>\n",
              "      <th></th>\n",
              "    </tr>\n",
              "  </thead>\n",
              "  <tbody>\n",
              "    <tr>\n",
              "      <th>1950-01-01</th>\n",
              "      <td>9.05</td>\n",
              "      <td>53.363636</td>\n",
              "    </tr>\n",
              "    <tr>\n",
              "      <th>1951-01-01</th>\n",
              "      <td>39.90</td>\n",
              "      <td>64.176966</td>\n",
              "    </tr>\n",
              "    <tr>\n",
              "      <th>1952-01-01</th>\n",
              "      <td>48.09</td>\n",
              "      <td>61.715190</td>\n",
              "    </tr>\n",
              "    <tr>\n",
              "      <th>1953-01-01</th>\n",
              "      <td>20.73</td>\n",
              "      <td>67.351695</td>\n",
              "    </tr>\n",
              "    <tr>\n",
              "      <th>1954-01-01</th>\n",
              "      <td>32.56</td>\n",
              "      <td>64.362573</td>\n",
              "    </tr>\n",
              "    <tr>\n",
              "      <th>...</th>\n",
              "      <td>...</td>\n",
              "      <td>...</td>\n",
              "    </tr>\n",
              "    <tr>\n",
              "      <th>2019-01-01</th>\n",
              "      <td>43.92</td>\n",
              "      <td>54.866667</td>\n",
              "    </tr>\n",
              "    <tr>\n",
              "      <th>2020-01-01</th>\n",
              "      <td>63.66</td>\n",
              "      <td>55.389831</td>\n",
              "    </tr>\n",
              "    <tr>\n",
              "      <th>2021-01-01</th>\n",
              "      <td>42.55</td>\n",
              "      <td>55.108635</td>\n",
              "    </tr>\n",
              "    <tr>\n",
              "      <th>2022-01-01</th>\n",
              "      <td>43.04</td>\n",
              "      <td>53.752941</td>\n",
              "    </tr>\n",
              "    <tr>\n",
              "      <th>2023-01-01</th>\n",
              "      <td>27.35</td>\n",
              "      <td>56.803922</td>\n",
              "    </tr>\n",
              "  </tbody>\n",
              "</table>\n",
              "<p>74 rows × 2 columns</p>\n",
              "</div>"
            ],
            "text/plain": [
              "             PRCP       TOBS\n",
              "DATE                        \n",
              "1950-01-01   9.05  53.363636\n",
              "1951-01-01  39.90  64.176966\n",
              "1952-01-01  48.09  61.715190\n",
              "1953-01-01  20.73  67.351695\n",
              "1954-01-01  32.56  64.362573\n",
              "...           ...        ...\n",
              "2019-01-01  43.92  54.866667\n",
              "2020-01-01  63.66  55.389831\n",
              "2021-01-01  42.55  55.108635\n",
              "2022-01-01  43.04  53.752941\n",
              "2023-01-01  27.35  56.803922\n",
              "\n",
              "[74 rows x 2 columns]"
            ]
          },
          "execution_count": 20,
          "metadata": {},
          "output_type": "execute_result"
        }
      ],
      "source": [
        "# Resample to annual\n",
        "ann_DC_df = DC_df.resample('YS').agg({'PRCP': np.sum, 'TOBS': np.mean})\n",
        "ann_DC_df"
      ]
    },
    {
      "cell_type": "code",
      "execution_count": 22,
      "id": "7a0c7126",
      "metadata": {},
      "outputs": [
        {
          "data": {
            "text/plain": [
              "<Axes: title={'center': 'Washington, DC Average Annual Precip'}, xlabel='Year', ylabel='Precip (in)'>"
            ]
          },
          "execution_count": 22,
          "metadata": {},
          "output_type": "execute_result"
        },
        {
          "data": {
            "image/png": "[encoded data removed]",
            "text/plain": [
              "<Figure size 640x480 with 1 Axes>"
            ]
          },
          "metadata": {},
          "output_type": "display_data"
        }
      ],
      "source": [
        "# Plot the annual data\n",
        "ann_DC_df.plot(\n",
        "    y='PRCP',\n",
        "    title='Washington, DC Average Annual Precip',\n",
        "    xlabel='Year',\n",
        "    ylabel='Precip (in)',\n",
        "    legend = False)"
      ]
    }
  ],
  "metadata": {
    "kernelspec": {
      "display_name": "Python 3 (ipykernel)",
      "language": "python",
      "name": "python3"
    },
    "language_info": {
      "codemirror_mode": {
        "name": "ipython",
        "version": 3
      },
      "file_extension": ".py",
      "mimetype": "text/x-python",
      "name": "python",
      "nbconvert_exporter": "python",
      "pygments_lexer": "ipython3",
      "version": "3.10.11"
    }
  },
  "nbformat": 4,
  "nbformat_minor": 5
}
